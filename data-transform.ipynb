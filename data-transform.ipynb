{
 "cells": [
  {
   "cell_type": "code",
   "execution_count": 7,
   "id": "df322a32-510a-4c4f-a7a8-bc2060b9cd6f",
   "metadata": {},
   "outputs": [],
   "source": [
    "from pyspark.sql import SparkSession\n",
    "from pyspark.sql import functions as sf\n",
    "\n",
    "spark = SparkSession.builder.getOrCreate()"
   ]
  },
  {
   "cell_type": "code",
   "execution_count": 8,
   "id": "aa4ce8fd-5e72-40da-bdfd-6cb2da05c701",
   "metadata": {},
   "outputs": [],
   "source": [
    "df = spark.read.json(\"data/roseville-20240624.json\")\n",
    "# df.printSchema()"
   ]
  },
  {
   "cell_type": "code",
   "execution_count": 37,
   "id": "ddde6a85-db93-4865-8e56-88d71f6ba22b",
   "metadata": {},
   "outputs": [
    {
     "name": "stdout",
     "output_type": "stream",
     "text": [
      "+-----------------+-------------+----------------------------------------------------------------------------------------------------------------------------------------------------------------+-----------+----------+\n",
      "|vin              |trim         |packageNames                                                                                                                                                    |retailPrice|finalPrice|\n",
      "+-----------------+-------------+----------------------------------------------------------------------------------------------------------------------------------------------------------------+-----------+----------+\n",
      "|1C6HJTAGXRL103734|WILLYS 4X4   |[Quick Order Package 24W Willys, Transmission: 8-Speed Automatic, Black 3-Piece Hard Top]                                                                       |$51,580    |$49,580   |\n",
      "|1C6JJTEG2RL105098|MOJAVE 4X4   |[Transmission: 8-Speed Automatic, Black 3-Piece Hard Top, Safety Group, Convenience Group]                                                                      |$61,375    |$56,975   |\n",
      "|1C6HJTAG1RL102293|SPORT S 4X4  |[Quick Order Package 24S Sport S, Transmission: 8-Speed Automatic, Cargo Group w/Trail Rail System, Convenience Group, Black 3-Piece Hard Top, Technology Group]|$52,870    |$58,808   |\n",
      "|1C6JJTBG4RL118388|RUBICON 4X4  |[Transmission: 8-Speed Automatic, Black 3-Piece Hard Top, Convenience Group]                                                                                    |$63,505    |$61,505   |\n",
      "|1C6JJTBG6RL118389|RUBICON 4X4  |[Transmission: 8-Speed Automatic, Black 3-Piece Hard Top, Convenience Group]                                                                                    |$64,100    |$62,100   |\n",
      "|1C6JJTBG2RL118387|RUBICON 4X4  |[Transmission: 8-Speed Automatic, Black 3-Piece Hard Top, Convenience Group]                                                                                    |$64,100    |$62,100   |\n",
      "|1C6JJTEGXRL124112|MOJAVE 4X4   |[Transmission: 8-Speed Automatic, Technology Group, Black 3-Piece Hard Top, Safety Group, Convenience Group]                                                    |$65,715    |$63,715   |\n",
      "|1C6JJTEG1RL124113|MOJAVE 4X4   |[Transmission: 8-Speed Automatic, Technology Group, Black 3-Piece Hard Top, Safety Group, Convenience Group]                                                    |$66,310    |$64,310   |\n",
      "|1C6JJTEG9RL124117|MOJAVE X 4X4 |[Quick Order Package 24A Mojave X, Transmission: 8-Speed Automatic, Leather Trimmed Bucket Seats]                                                               |$67,390    |$65,390   |\n",
      "|1C6JJTEG7RL124116|MOJAVE X 4X4 |[Quick Order Package 24A Mojave X, Transmission: 8-Speed Automatic, Leather Trimmed Bucket Seats]                                                               |$67,985    |$65,985   |\n",
      "|1C6JJTBG7RL128056|RUBICON X 4X4|[Quick Order Package 24Y Rubicon X, Transmission: 8-Speed Automatic, Power Adjust Nappa Leather Seats]                                                          |$68,115    |$66,115   |\n",
      "|1C6JJTBG8RL124128|RUBICON X 4X4|[Quick Order Package 24Y Rubicon X, Transmission: 8-Speed Automatic, Power Adjust Nappa Leather Seats]                                                          |$68,710    |$66,710   |\n",
      "|1C6JJTBG5RL128055|RUBICON X 4X4|[Quick Order Package 24Y Rubicon X, Transmission: 8-Speed Automatic, Power Adjust Nappa Leather Seats]                                                          |$68,710    |$66,710   |\n",
      "+-----------------+-------------+----------------------------------------------------------------------------------------------------------------------------------------------------------------+-----------+----------+\n",
      "\n"
     ]
    }
   ],
   "source": [
    "# df.show(truncate=False)\n",
    "# df.select(\"inventory.*\").show()\n",
    "df.withColumn(\"inventory\", sf.explode(\"inventory\")).withColumn(\"finalPrice\", sf.element_at(\"inventory.pricing.dPrice.value\", -1)).select(\"inventory.vin\", \"inventory.trim\", \"inventory.packageNames\", \"inventory.pricing.retailPrice\", \"finalPrice\").show(truncate=False)"
   ]
  },
  {
   "cell_type": "code",
   "execution_count": null,
   "id": "ed58b6fe-502b-440b-9dc5-836d4852792d",
   "metadata": {},
   "outputs": [],
   "source": []
  }
 ],
 "metadata": {
  "kernelspec": {
   "display_name": "Python 3 (ipykernel)",
   "language": "python",
   "name": "python3"
  },
  "language_info": {
   "codemirror_mode": {
    "name": "ipython",
    "version": 3
   },
   "file_extension": ".py",
   "mimetype": "text/x-python",
   "name": "python",
   "nbconvert_exporter": "python",
   "pygments_lexer": "ipython3",
   "version": "3.12.4"
  }
 },
 "nbformat": 4,
 "nbformat_minor": 5
}
